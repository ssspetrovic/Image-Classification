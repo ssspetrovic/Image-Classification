{
  "nbformat": 4,
  "nbformat_minor": 0,
  "metadata": {
    "colab": {
      "provenance": [],
      "gpuType": "T4",
      "authorship_tag": "ABX9TyNL+i652pp8ZO/78iV0YoAM",
      "include_colab_link": true
    },
    "kernelspec": {
      "name": "python3",
      "display_name": "Python 3"
    },
    "language_info": {
      "name": "python"
    },
    "accelerator": "GPU"
  },
  "cells": [
    {
      "cell_type": "markdown",
      "metadata": {
        "id": "view-in-github",
        "colab_type": "text"
      },
      "source": [
        "<a href=\"https://colab.research.google.com/github/ssspetrovic/Image-Classification/blob/main/image_classification.ipynb\" target=\"_parent\"><img src=\"https://colab.research.google.com/assets/colab-badge.svg\" alt=\"Open In Colab\"/></a>"
      ]
    },
    {
      "cell_type": "markdown",
      "source": [
        "# **Klasifikacija slika**\n",
        "### Naučno istraživanje na temu obučavanja konvolucijske neuronske mreže za klasifikaciju slika iz CIFAR-10 ulaznog skupa podataka\n",
        "\n",
        "**Autor:** Srđan Petrović IN 47/2020  \n",
        "**Predmet:** Metode i tehnike nauke o podacima  \n",
        "\n",
        "*Fakultet tehničkih nauka* <br>\n",
        "*Univerzitet u Novom Sadu, 2023*\n"
      ],
      "metadata": {
        "id": "OCGWlaDh7uhp"
      }
    },
    {
      "cell_type": "markdown",
      "source": [
        "# Instaliranje potrebnih paketa"
      ],
      "metadata": {
        "id": "bFDTAfW8YHGm"
      }
    },
    {
      "cell_type": "code",
      "execution_count": null,
      "metadata": {
        "id": "fwvVf9frXyr_"
      },
      "outputs": [],
      "source": [
        "# !pip install tensorflow\n",
        "# !pip install matplotlib\n",
        "# !pip install opencv-python"
      ]
    },
    {
      "cell_type": "markdown",
      "source": [
        "# Uvoz neophodnih biblioteka\n",
        "Osnovne biblioteke iz pređašnje instaliranih paketa, neophodne za formiranje modela i uvoz podataka\n"
      ],
      "metadata": {
        "id": "xMkwHBdEYmyX"
      }
    },
    {
      "cell_type": "code",
      "source": [
        "import numpy as np\n",
        "import matplotlib.pyplot as plt\n",
        "from tensorflow import keras\n",
        "from keras.utils import np_utils\n",
        "from keras import datasets, layers, models"
      ],
      "metadata": {
        "id": "-SkNTh_GYvSv"
      },
      "execution_count": null,
      "outputs": []
    },
    {
      "cell_type": "markdown",
      "source": [
        "## Učitavanje skupa podataka putem keras biblioteke\n",
        "\n",
        "---\n",
        "\n",
        "\n",
        "- Skup u pitanju: *CIFAR-10*\n",
        "- Više informacija dostupno na: https://www.cs.toronto.edu/~kriz/cifar.html"
      ],
      "metadata": {
        "id": "9T6KbX54ZjcR"
      }
    },
    {
      "cell_type": "code",
      "source": [
        "(train_images, train_labels), (test_images, test_labels) = datasets.cifar10.load_data()"
      ],
      "metadata": {
        "id": "6Fi4Fa-WZ3G_",
        "colab": {
          "base_uri": "https://localhost:8080/"
        },
        "outputId": "32cb56e7-ae99-4b66-9535-f5489a236062"
      },
      "execution_count": null,
      "outputs": [
        {
          "output_type": "stream",
          "name": "stdout",
          "text": [
            "Downloading data from https://www.cs.toronto.edu/~kriz/cifar-10-python.tar.gz\n",
            "170498071/170498071 [==============================] - 4s 0us/step\n"
          ]
        }
      ]
    },
    {
      "cell_type": "markdown",
      "source": [
        "## Kreiramo niz labela kategorija u redosledu koji je zadat u skupu podata\n"
      ],
      "metadata": {
        "id": "LrmTFd_Aafx0"
      }
    },
    {
      "cell_type": "code",
      "source": [
        "class_names = [\n",
        "    \"airplane\",\n",
        "    \"automobile\",\n",
        "    \"bird\",\n",
        "    \"cat\",\n",
        "    \"deer\",\n",
        "    \"dog\",\n",
        "    \"frog\",\n",
        "    \"horse\",\n",
        "    \"ship\",\n",
        "    \"truck\",\n",
        "]"
      ],
      "metadata": {
        "id": "ZlYkxXAkaqn-"
      },
      "execution_count": null,
      "outputs": []
    },
    {
      "cell_type": "markdown",
      "source": [
        "## Manipulacija ulaznim skupom podataka\n",
        "Evo kako izgledaju \"sirovi\" ulazni podaci"
      ],
      "metadata": {
        "id": "mWNRzJt7axKl"
      }
    },
    {
      "cell_type": "code",
      "source": [
        "print(\"\\nPrimer jednog kanala ulazne slike:\")\n",
        "print(train_images[0][0][:3])\n",
        "print(\"\\nPrimer nekoliko izgleda oblika ulaznih labela:\")\n",
        "print(train_labels[:5])"
      ],
      "metadata": {
        "colab": {
          "base_uri": "https://localhost:8080/"
        },
        "id": "ezRLF8P2dHAd",
        "outputId": "ce904086-e9d9-4471-eb81-ca3a68abf611"
      },
      "execution_count": null,
      "outputs": [
        {
          "output_type": "stream",
          "name": "stdout",
          "text": [
            "\n",
            "Primer jednog kanala ulazne slike:\n",
            "[[59 62 63]\n",
            " [43 46 45]\n",
            " [50 48 43]]\n",
            "\n",
            "Primer nekoliko izgleda oblika ulaznih labela:\n",
            "[[6]\n",
            " [9]\n",
            " [9]\n",
            " [4]\n",
            " [1]]\n"
          ]
        }
      ]
    },
    {
      "cell_type": "markdown",
      "source": [
        "Kako bismo poboljšali performanse modela, normalizujemo vrednosti ulaznih slika tako da budu između 0 i 1 <br>\n",
        "Razlog deljenja sa 255 jeste taj što vrednosti R, G i B kanala kod svake slike varira od 0 do 255 <br><br>\n",
        "Takođe, linearizujemo ulazni niz labela jer je nepotrebno zadat u dve dimenzije"
      ],
      "metadata": {
        "id": "nX7IN0-5cwwj"
      }
    },
    {
      "cell_type": "code",
      "source": [
        "# Normalizovanje RGB vrednosti slika tako da budu u opsegu od 0 do 1\n",
        "train_images, test_images = train_images / 255.0, test_images / 255.0\n",
        "\n",
        "# Pretvaranje vrednosti labela u jednodimenzionalni niz umesto dvodimenzionalnog\n",
        "train_labels = train_labels.reshape(-1, )"
      ],
      "metadata": {
        "id": "FaGUL0uvbCZJ"
      },
      "execution_count": null,
      "outputs": []
    },
    {
      "cell_type": "markdown",
      "source": [
        "Podaci nakon manipulacije:"
      ],
      "metadata": {
        "id": "FHj42Ma-bP-x"
      }
    },
    {
      "cell_type": "code",
      "source": [
        "print(\"\\nPrimer jednog kanala ulazne slike:\")\n",
        "print(train_images[0][0][:3])\n",
        "print(\"\\nPrimer nekoliko izgleda oblika ulaznih labela:\")\n",
        "print(train_labels[:5])"
      ],
      "metadata": {
        "id": "Sj6NuFDceU5Z",
        "colab": {
          "base_uri": "https://localhost:8080/"
        },
        "outputId": "43e65ff1-7746-4269-a19b-46640a4ffb6a"
      },
      "execution_count": null,
      "outputs": [
        {
          "output_type": "stream",
          "name": "stdout",
          "text": [
            "\n",
            "Primer jednog kanala ulazne slike:\n",
            "[[0.23137255 0.24313725 0.24705882]\n",
            " [0.16862745 0.18039216 0.17647059]\n",
            " [0.19607843 0.18823529 0.16862745]]\n",
            "\n",
            "Primer nekoliko izgleda oblika ulaznih labela:\n",
            "[6 9 9 4 1]\n"
          ]
        }
      ]
    },
    {
      "cell_type": "markdown",
      "source": [
        "### Izvlačenje dimenzija i oblika koji će nam trebati pri obučavanju"
      ],
      "metadata": {
        "id": "6FqnsoGCepnd"
      }
    },
    {
      "cell_type": "code",
      "source": [
        "num_classes = len(class_names)\n",
        "train_images_shape = train_images.shape[1:]"
      ],
      "metadata": {
        "id": "_jn2y5rkexuG"
      },
      "execution_count": null,
      "outputs": []
    },
    {
      "cell_type": "markdown",
      "source": [
        "### Testiranje iscrtavanja jedne slike\n",
        "Ispod je jednostavna funkcija koja nam omogućava da iscrtamo jednu sliku putem njenog indeksa u ulaznom skupu podataka"
      ],
      "metadata": {
        "id": "Ckj1nuu9ezh2"
      }
    },
    {
      "cell_type": "code",
      "source": [
        "def sample_plot(images, labels, n, cmap=None):\n",
        "    fig, axes = plt.subplots(1, n, figsize=(n * 4, 4))\n",
        "    for i in range(n):\n",
        "        axes[i].imshow(images[i], cmap=cmap)\n",
        "        label_index = int(labels[i])\n",
        "        axes[i].set_xlabel(class_names[label_index], fontsize=13)"
      ],
      "metadata": {
        "id": "5cjQYU7jfCOz"
      },
      "execution_count": null,
      "outputs": []
    },
    {
      "cell_type": "markdown",
      "source": [
        "Provera iscrtavanja"
      ],
      "metadata": {
        "id": "QC0c41Kkfa6F"
      }
    },
    {
      "cell_type": "code",
      "source": [
        "sample_plot(train_images, train_labels, 3)\n",
        "plt.show()"
      ],
      "metadata": {
        "id": "5iGoOnlffd27",
        "colab": {
          "base_uri": "https://localhost:8080/",
          "height": 359
        },
        "outputId": "e210a57b-e685-4451-c841-3c90797e0aa6"
      },
      "execution_count": null,
      "outputs": [
        {
          "output_type": "display_data",
          "data": {
            "text/plain": [
              "<Figure size 1200x400 with 3 Axes>"
            ],
            "image/png": "[encoded data removed]"
          },
          "metadata": {}
        }
      ]
    },
    {
      "cell_type": "markdown",
      "source": [
        "# Formiranje modela za obučavanje\n",
        "Za početni slučaj uzećemo 2 konvoluciona sloja sa po 32 i 64 filtera respektivno, zatim 2 potpuno povezana sloja od po 64 i 10 neurona"
      ],
      "metadata": {
        "id": "Lwwes_xzf9C8"
      }
    },
    {
      "cell_type": "code",
      "source": [
        "cnn = models.Sequential([\n",
        "    layers.Conv2D(\n",
        "        filters=32,\n",
        "        padding=\"same\",\n",
        "        kernel_size=(3, 3),\n",
        "        activation=\"relu\",\n",
        "        input_shape=train_images_shape\n",
        "    ),\n",
        "    layers.MaxPooling2D(pool_size=(2, 2)),\n",
        "\n",
        "    layers.Conv2D(\n",
        "        filters=64,\n",
        "        padding=\"same\",\n",
        "        kernel_size=(3, 3),\n",
        "        activation=\"relu\"\n",
        "    ),\n",
        "    layers.MaxPooling2D(pool_size=(2, 2)),\n",
        "\n",
        "    layers.Flatten(),\n",
        "    layers.Dense(64, activation=\"relu\"),\n",
        "    layers.Dense(num_classes, activation=\"softmax\")\n",
        "])"
      ],
      "metadata": {
        "id": "jPpcYR3OgR4u"
      },
      "execution_count": null,
      "outputs": []
    },
    {
      "cell_type": "markdown",
      "source": [
        "Za kompajliranje modela, uzeti su najpopularniji parametri u radu sa konvolucionim neuronskim mrežama\n"
      ],
      "metadata": {
        "id": "8h96-1CRgzdv"
      }
    },
    {
      "cell_type": "code",
      "source": [
        "cnn.compile(optimizer=\"adam\",\n",
        "            loss=\"sparse_categorical_crossentropy\",\n",
        "            metrics=[\"accuracy\"])"
      ],
      "metadata": {
        "id": "rrXdGFkWgedB"
      },
      "execution_count": null,
      "outputs": []
    },
    {
      "cell_type": "markdown",
      "source": [
        "Kompajliranju modela sledi njegovo obučavanje, zbog eksperimenta uzimamo samo 10 epoha"
      ],
      "metadata": {
        "id": "zKZv0y7ahP_x"
      }
    },
    {
      "cell_type": "code",
      "source": [
        "cnn.fit(train_images, train_labels, validation_data=(test_images, test_labels), epochs=10)"
      ],
      "metadata": {
        "id": "z7w9mmiFge7F",
        "colab": {
          "base_uri": "https://localhost:8080/"
        },
        "outputId": "7160150b-7287-473f-dc41-765837f6029b"
      },
      "execution_count": null,
      "outputs": [
        {
          "output_type": "stream",
          "name": "stdout",
          "text": [
            "Epoch 1/10\n",
            "1563/1563 [==============================] - 21s 6ms/step - loss: 1.3846 - accuracy: 0.5082 - val_loss: 1.0773 - val_accuracy: 0.6264\n",
            "Epoch 2/10\n",
            "1563/1563 [==============================] - 7s 4ms/step - loss: 0.9933 - accuracy: 0.6527 - val_loss: 0.9490 - val_accuracy: 0.6721\n",
            "Epoch 3/10\n",
            "1563/1563 [==============================] - 7s 5ms/step - loss: 0.8633 - accuracy: 0.6987 - val_loss: 0.8865 - val_accuracy: 0.6953\n",
            "Epoch 4/10\n",
            "1563/1563 [==============================] - 7s 5ms/step - loss: 0.7715 - accuracy: 0.7313 - val_loss: 0.8686 - val_accuracy: 0.6965\n",
            "Epoch 5/10\n",
            "1563/1563 [==============================] - 8s 5ms/step - loss: 0.6957 - accuracy: 0.7574 - val_loss: 0.8571 - val_accuracy: 0.7086\n",
            "Epoch 6/10\n",
            "1563/1563 [==============================] - 8s 5ms/step - loss: 0.6296 - accuracy: 0.7823 - val_loss: 0.8595 - val_accuracy: 0.7058\n",
            "Epoch 7/10\n",
            "1563/1563 [==============================] - 8s 5ms/step - loss: 0.5716 - accuracy: 0.7986 - val_loss: 0.8926 - val_accuracy: 0.7087\n",
            "Epoch 8/10\n",
            "1563/1563 [==============================] - 7s 5ms/step - loss: 0.5130 - accuracy: 0.8212 - val_loss: 0.9391 - val_accuracy: 0.7014\n",
            "Epoch 9/10\n",
            "1563/1563 [==============================] - 8s 5ms/step - loss: 0.4609 - accuracy: 0.8371 - val_loss: 0.9399 - val_accuracy: 0.7092\n",
            "Epoch 10/10\n",
            "1563/1563 [==============================] - 7s 4ms/step - loss: 0.4129 - accuracy: 0.8542 - val_loss: 0.9895 - val_accuracy: 0.7117\n"
          ]
        },
        {
          "output_type": "execute_result",
          "data": {
            "text/plain": [
              "<keras.callbacks.History at 0x7f9a9c2ff2b0>"
            ]
          },
          "metadata": {},
          "execution_count": 15
        }
      ]
    },
    {
      "cell_type": "markdown",
      "source": [
        "Nakon obučavanja, možemo evaluirati dobijenu preciznost."
      ],
      "metadata": {
        "id": "bgh3neoE9LNJ"
      }
    },
    {
      "cell_type": "code",
      "source": [
        "cnn.evaluate(test_images, test_labels)"
      ],
      "metadata": {
        "id": "LeGgY6wS9SMR",
        "colab": {
          "base_uri": "https://localhost:8080/"
        },
        "outputId": "c8c36f17-aaad-4ef6-d0fb-9233676442ff"
      },
      "execution_count": null,
      "outputs": [
        {
          "output_type": "stream",
          "name": "stdout",
          "text": [
            "313/313 [==============================] - 1s 3ms/step - loss: 0.9895 - accuracy: 0.7117\n"
          ]
        },
        {
          "output_type": "execute_result",
          "data": {
            "text/plain": [
              "[0.9895089864730835, 0.7117000222206116]"
            ]
          },
          "metadata": {},
          "execution_count": 16
        }
      ]
    },
    {
      "cell_type": "markdown",
      "source": [
        "- Preciznost za obučavanje nad podacima za treniranje iznosi solidnih 84% u poslednjoj epohi <br>\n",
        "- Međutim, to nije slučaj i sa podacima namenjenim za testiranje. Kod njih možemo videti da preciznost iznosi 70%. To znači da imamo prostora za poboljšanje\n",
        "\n"
      ],
      "metadata": {
        "id": "3g66hVMyhjgh"
      }
    },
    {
      "cell_type": "markdown",
      "source": [
        "# **Optimizacija**\n",
        "\n",
        "### Dodavanje dodatnih slojeva\n",
        "Za početak, testiraćemo rezultat nakon dodavanja dodatnih konvolucijskih slojeva i potpuno povezanog sloja u naš model"
      ],
      "metadata": {
        "id": "ynwQJMB9ih9R"
      }
    },
    {
      "cell_type": "code",
      "source": [
        "cnn = models.Sequential([\n",
        "    layers.Conv2D(\n",
        "        filters=32,\n",
        "        padding=\"same\",\n",
        "        kernel_size=(3, 3),\n",
        "        activation=\"relu\",\n",
        "        input_shape=train_images_shape\n",
        "    ),\n",
        "\n",
        "    layers.Conv2D(\n",
        "        filters=64,\n",
        "        padding=\"same\",\n",
        "        kernel_size=(3, 3),\n",
        "        activation=\"relu\"\n",
        "    ),\n",
        "    layers.MaxPooling2D(pool_size=(2, 2)),\n",
        "    \n",
        "    layers.Conv2D(\n",
        "        filters=128,\n",
        "        padding=\"same\",\n",
        "        kernel_size=(3, 3),\n",
        "        activation=\"relu\"\n",
        "    ),\n",
        "    layers.MaxPooling2D(pool_size=(2, 2)),\n",
        "    \n",
        "    layers.Flatten(),\n",
        "    layers.Dense(64, activation=\"relu\"),\n",
        "    layers.Dense(32, activation=\"relu\"),\n",
        "    layers.Dense(num_classes, activation=\"softmax\")\n",
        "])\n",
        "\n",
        "cnn.compile(optimizer=\"adam\",\n",
        "            loss=\"sparse_categorical_crossentropy\",\n",
        "            metrics=[\"accuracy\"])\n",
        "\n",
        "cnn.fit(train_images, train_labels, validation_data=(test_images, test_labels), epochs=10)\n",
        "cnn.evaluate(test_images, test_labels)"
      ],
      "metadata": {
        "id": "amwRbM9FinQB",
        "colab": {
          "base_uri": "https://localhost:8080/"
        },
        "outputId": "7f3a261f-6fbb-41f2-ccd7-4038971fefd6"
      },
      "execution_count": null,
      "outputs": [
        {
          "output_type": "stream",
          "name": "stdout",
          "text": [
            "Epoch 1/10\n",
            "1563/1563 [==============================] - 13s 6ms/step - loss: 1.3371 - accuracy: 0.5152 - val_loss: 0.9717 - val_accuracy: 0.6607\n",
            "Epoch 2/10\n",
            "1563/1563 [==============================] - 10s 6ms/step - loss: 0.8765 - accuracy: 0.6937 - val_loss: 0.8299 - val_accuracy: 0.7127\n",
            "Epoch 3/10\n",
            "1563/1563 [==============================] - 14s 9ms/step - loss: 0.7128 - accuracy: 0.7514 - val_loss: 0.8185 - val_accuracy: 0.7223\n",
            "Epoch 4/10\n",
            "1563/1563 [==============================] - 9s 6ms/step - loss: 0.6017 - accuracy: 0.7907 - val_loss: 0.7683 - val_accuracy: 0.7421\n",
            "Epoch 5/10\n",
            "1563/1563 [==============================] - 10s 6ms/step - loss: 0.5053 - accuracy: 0.8239 - val_loss: 0.7869 - val_accuracy: 0.7389\n",
            "Epoch 6/10\n",
            "1563/1563 [==============================] - 9s 6ms/step - loss: 0.4237 - accuracy: 0.8499 - val_loss: 0.8135 - val_accuracy: 0.7433\n",
            "Epoch 7/10\n",
            "1563/1563 [==============================] - 9s 6ms/step - loss: 0.3508 - accuracy: 0.8771 - val_loss: 0.9097 - val_accuracy: 0.7250\n",
            "Epoch 8/10\n",
            "1563/1563 [==============================] - 10s 6ms/step - loss: 0.2964 - accuracy: 0.8952 - val_loss: 0.9373 - val_accuracy: 0.7416\n",
            "Epoch 9/10\n",
            "1563/1563 [==============================] - 10s 6ms/step - loss: 0.2494 - accuracy: 0.9115 - val_loss: 0.9990 - val_accuracy: 0.7341\n",
            "Epoch 10/10\n",
            "1563/1563 [==============================] - 9s 6ms/step - loss: 0.2144 - accuracy: 0.9245 - val_loss: 1.1702 - val_accuracy: 0.7112\n",
            "313/313 [==============================] - 1s 4ms/step - loss: 1.1702 - accuracy: 0.7112\n"
          ]
        },
        {
          "output_type": "execute_result",
          "data": {
            "text/plain": [
              "[1.1702419519424438, 0.7111999988555908]"
            ]
          },
          "metadata": {},
          "execution_count": 17
        }
      ]
    },
    {
      "cell_type": "markdown",
      "source": [
        "Dodavanje još jednog konvolucionog sloja i jednog Dense sloja značajno poboljšava rezultat kako preciznosti nad podacima za treniranje tako i na nepoznatim podacima za testiranje. <br>\n",
        "Sada preciznost nad podacima za obučavanje iznosi 92%, dok na podacima za testiranje iznosi 71%"
      ],
      "metadata": {
        "id": "vas-BMC-pcCS"
      }
    },
    {
      "cell_type": "markdown",
      "source": [
        "### Dodavanje Dropout slojeva\n",
        "Dropout slojevi nam pomažu kako bismo sprečili *overfitting* <br>\n",
        "To se postiže tako što se odrežen procenat ulaznih parametara (u ovom slučaju 30%) resetuje na 0 tokom treniranja kako bismo smanjili pristrasnost modela tako da ne zavisi previše od ulaznih podataka"
      ],
      "metadata": {
        "id": "iW-FlLU7qvrN"
      }
    },
    {
      "cell_type": "code",
      "source": [
        "cnn = models.Sequential([\n",
        "    layers.Conv2D(\n",
        "        filters=32,\n",
        "        padding=\"same\",\n",
        "        kernel_size=(3, 3),\n",
        "        activation=\"relu\",\n",
        "        input_shape=train_images_shape\n",
        "    ),\n",
        "    layers.Dropout(0.2),\n",
        "\n",
        "    layers.Conv2D(\n",
        "        filters=64,\n",
        "        padding=\"same\",\n",
        "        kernel_size=(3, 3),\n",
        "        activation=\"relu\"\n",
        "    ),\n",
        "    layers.Dropout(0.2),\n",
        "    layers.MaxPooling2D(pool_size=(2, 2)),\n",
        "    \n",
        "    layers.Conv2D(\n",
        "        filters=128,\n",
        "        padding=\"same\",\n",
        "        kernel_size=(3, 3),\n",
        "        activation=\"relu\"\n",
        "    ),\n",
        "    layers.Dropout(0.2),\n",
        "    layers.MaxPooling2D(pool_size=(2, 2)),\n",
        "    \n",
        "    layers.Flatten(),\n",
        "    layers.Dense(64, activation=\"relu\"),\n",
        "    layers.Dropout(0.2),\n",
        "    layers.Dense(32, activation=\"relu\"),\n",
        "    layers.Dropout(0.2),\n",
        "    layers.Dense(num_classes, activation=\"softmax\")\n",
        "])\n",
        "\n",
        "cnn.compile(optimizer=\"adam\",\n",
        "            loss=\"sparse_categorical_crossentropy\",\n",
        "            metrics=[\"accuracy\"])\n",
        "\n",
        "cnn.fit(train_images, train_labels, validation_data=(test_images, test_labels), epochs=10)\n",
        "cnn.evaluate(test_images, test_labels)"
      ],
      "metadata": {
        "id": "7HOJaeomqvJf",
        "colab": {
          "base_uri": "https://localhost:8080/"
        },
        "outputId": "3a475e51-e6f9-4b7c-cc4e-22114f5287e4"
      },
      "execution_count": null,
      "outputs": [
        {
          "output_type": "stream",
          "name": "stdout",
          "text": [
            "Epoch 1/10\n",
            "1563/1563 [==============================] - 15s 8ms/step - loss: 1.6779 - accuracy: 0.3818 - val_loss: 1.3276 - val_accuracy: 0.5298\n",
            "Epoch 2/10\n",
            "1563/1563 [==============================] - 12s 8ms/step - loss: 1.2839 - accuracy: 0.5409 - val_loss: 1.0893 - val_accuracy: 0.6332\n",
            "Epoch 3/10\n",
            "1563/1563 [==============================] - 12s 8ms/step - loss: 1.1141 - accuracy: 0.6096 - val_loss: 0.9771 - val_accuracy: 0.6684\n",
            "Epoch 4/10\n",
            "1563/1563 [==============================] - 12s 7ms/step - loss: 1.0104 - accuracy: 0.6492 - val_loss: 0.9243 - val_accuracy: 0.6964\n",
            "Epoch 5/10\n",
            "1563/1563 [==============================] - 12s 7ms/step - loss: 0.9425 - accuracy: 0.6720 - val_loss: 0.8898 - val_accuracy: 0.7047\n",
            "Epoch 6/10\n",
            "1563/1563 [==============================] - 12s 7ms/step - loss: 0.8983 - accuracy: 0.6915 - val_loss: 0.8310 - val_accuracy: 0.7202\n",
            "Epoch 7/10\n",
            "1563/1563 [==============================] - 12s 8ms/step - loss: 0.8538 - accuracy: 0.7046 - val_loss: 0.8298 - val_accuracy: 0.7198\n",
            "Epoch 8/10\n",
            "1563/1563 [==============================] - 12s 7ms/step - loss: 0.8095 - accuracy: 0.7213 - val_loss: 0.8327 - val_accuracy: 0.7210\n",
            "Epoch 9/10\n",
            "1563/1563 [==============================] - 12s 8ms/step - loss: 0.7847 - accuracy: 0.7279 - val_loss: 0.7921 - val_accuracy: 0.7316\n",
            "Epoch 10/10\n",
            "1563/1563 [==============================] - 12s 7ms/step - loss: 0.7485 - accuracy: 0.7414 - val_loss: 0.8037 - val_accuracy: 0.7331\n",
            "313/313 [==============================] - 1s 3ms/step - loss: 0.8037 - accuracy: 0.7331\n"
          ]
        },
        {
          "output_type": "execute_result",
          "data": {
            "text/plain": [
              "[0.8036856651306152, 0.7330999970436096]"
            ]
          },
          "metadata": {},
          "execution_count": 18
        }
      ]
    },
    {
      "cell_type": "markdown",
      "source": [
        "Možemo primetiti kako Dropout layer ima doprinos obučavanju.<br>\n",
        "Međutim, ukoliko povećamo broj filtera i neurona na način ispod, rezultat se još poboljšava jer smanjujemo underfitting."
      ],
      "metadata": {
        "id": "hEGVYWCjzA56"
      }
    },
    {
      "cell_type": "code",
      "source": [
        "cnn = models.Sequential([\n",
        "    layers.Conv2D(\n",
        "        filters=64,\n",
        "        padding=\"same\",\n",
        "        kernel_size=(3, 3),\n",
        "        activation=\"relu\",\n",
        "        input_shape=train_images_shape\n",
        "    ),\n",
        "    layers.Dropout(0.3),\n",
        "\n",
        "    layers.Conv2D(\n",
        "        filters=128,\n",
        "        padding=\"same\",\n",
        "        kernel_size=(3, 3),\n",
        "        activation=\"relu\"\n",
        "    ),\n",
        "    layers.Dropout(0.2),\n",
        "    layers.MaxPooling2D(pool_size=(2, 2)),\n",
        "    \n",
        "    layers.Conv2D(\n",
        "        filters=256,\n",
        "        padding=\"same\",\n",
        "        kernel_size=(3, 3),\n",
        "        activation=\"relu\"\n",
        "    ),\n",
        "    layers.Dropout(0.3),\n",
        "    layers.MaxPooling2D(pool_size=(2, 2)),\n",
        "    \n",
        "    layers.Flatten(),\n",
        "    layers.Dense(512, activation=\"relu\"),\n",
        "    layers.Dropout(0.3),\n",
        "    layers.Dense(256, activation=\"relu\"),\n",
        "    layers.Dropout(0.3),\n",
        "    layers.Dense(num_classes, activation=\"softmax\")\n",
        "])\n",
        "\n",
        "cnn.compile(optimizer=\"adam\",\n",
        "            loss=\"sparse_categorical_crossentropy\",\n",
        "            metrics=[\"accuracy\"])\n",
        "\n",
        "cnn.fit(train_images, train_labels, validation_data=(test_images, test_labels), epochs=10)\n",
        "cnn.evaluate(test_images, test_labels)"
      ],
      "metadata": {
        "id": "DqH3bFE_1zkQ",
        "colab": {
          "base_uri": "https://localhost:8080/"
        },
        "outputId": "071ecb57-f365-4507-9f4a-50fd0dceb5c7"
      },
      "execution_count": null,
      "outputs": [
        {
          "output_type": "stream",
          "name": "stdout",
          "text": [
            "Epoch 1/10\n",
            "1563/1563 [==============================] - 25s 14ms/step - loss: 1.4724 - accuracy: 0.4624 - val_loss: 1.1939 - val_accuracy: 0.5856\n",
            "Epoch 2/10\n",
            "1563/1563 [==============================] - 22s 14ms/step - loss: 1.0423 - accuracy: 0.6354 - val_loss: 0.9257 - val_accuracy: 0.6893\n",
            "Epoch 3/10\n",
            "1563/1563 [==============================] - 21s 13ms/step - loss: 0.8876 - accuracy: 0.6900 - val_loss: 0.8471 - val_accuracy: 0.7131\n",
            "Epoch 4/10\n",
            "1563/1563 [==============================] - 21s 14ms/step - loss: 0.7920 - accuracy: 0.7233 - val_loss: 0.7883 - val_accuracy: 0.7317\n",
            "Epoch 5/10\n",
            "1563/1563 [==============================] - 21s 14ms/step - loss: 0.7164 - accuracy: 0.7505 - val_loss: 0.7509 - val_accuracy: 0.7434\n",
            "Epoch 6/10\n",
            "1563/1563 [==============================] - 21s 14ms/step - loss: 0.6511 - accuracy: 0.7739 - val_loss: 0.7595 - val_accuracy: 0.7336\n",
            "Epoch 7/10\n",
            "1563/1563 [==============================] - 23s 15ms/step - loss: 0.6078 - accuracy: 0.7865 - val_loss: 0.7528 - val_accuracy: 0.7413\n",
            "Epoch 8/10\n",
            "1563/1563 [==============================] - 21s 14ms/step - loss: 0.5595 - accuracy: 0.8032 - val_loss: 0.7389 - val_accuracy: 0.7466\n",
            "Epoch 9/10\n",
            "1563/1563 [==============================] - 26s 16ms/step - loss: 0.5194 - accuracy: 0.8184 - val_loss: 0.7711 - val_accuracy: 0.7362\n",
            "Epoch 10/10\n",
            "1563/1563 [==============================] - 21s 14ms/step - loss: 0.4976 - accuracy: 0.8251 - val_loss: 0.7404 - val_accuracy: 0.7488\n",
            "313/313 [==============================] - 2s 5ms/step - loss: 0.7404 - accuracy: 0.7488\n"
          ]
        },
        {
          "output_type": "execute_result",
          "data": {
            "text/plain": [
              "[0.7404052019119263, 0.7487999796867371]"
            ]
          },
          "metadata": {},
          "execution_count": 19
        }
      ]
    },
    {
      "cell_type": "markdown",
      "source": [
        "Sada u poslednjoj epohi imamo preciznosti 82% na podacima za obučavanje, dok podaci za testiranje daju preciznost od 75%."
      ],
      "metadata": {
        "id": "kq3_-gnR4kJF"
      }
    },
    {
      "cell_type": "markdown",
      "source": [
        "Malim korigovanjem Dropout frakcije možemo još više poboljšati preciznost"
      ],
      "metadata": {
        "id": "53dB42Lj7JzF"
      }
    },
    {
      "cell_type": "code",
      "source": [
        "cnn = models.Sequential([\n",
        "    layers.Conv2D(\n",
        "        filters=64,\n",
        "        padding=\"same\",\n",
        "        kernel_size=(3, 3),\n",
        "        activation=\"relu\",\n",
        "        input_shape=train_images_shape\n",
        "    ),\n",
        "    layers.Dropout(0.2),\n",
        "\n",
        "    layers.Conv2D(\n",
        "        filters=128,\n",
        "        padding=\"same\",\n",
        "        kernel_size=(3, 3),\n",
        "        activation=\"relu\"\n",
        "    ),\n",
        "    layers.Dropout(0.2),\n",
        "    layers.MaxPooling2D(pool_size=(2, 2)),\n",
        "    \n",
        "    layers.Conv2D(\n",
        "        filters=256,\n",
        "        padding=\"same\",\n",
        "        kernel_size=(3, 3),\n",
        "        activation=\"relu\"\n",
        "    ),\n",
        "    layers.Dropout(0.2),\n",
        "    layers.MaxPooling2D(pool_size=(2, 2)),\n",
        "    \n",
        "    layers.Flatten(),\n",
        "    layers.Dense(512, activation=\"relu\"),\n",
        "    layers.Dropout(0.4),\n",
        "    layers.Dense(256, activation=\"relu\"),\n",
        "    layers.Dropout(0.3),\n",
        "    layers.Dense(num_classes, activation=\"softmax\")\n",
        "])\n",
        "\n",
        "cnn.compile(optimizer=\"adam\",\n",
        "            loss=\"sparse_categorical_crossentropy\",\n",
        "            metrics=[\"accuracy\"])\n",
        "\n",
        "cnn.fit(train_images, train_labels, validation_data=(test_images, test_labels), epochs=10)\n",
        "cnn.evaluate(test_images, test_labels)"
      ],
      "metadata": {
        "id": "1gk10f6t5Vj4",
        "colab": {
          "base_uri": "https://localhost:8080/"
        },
        "outputId": "88fb8ce3-94bd-4b34-c6f5-fba38c5713b9"
      },
      "execution_count": null,
      "outputs": [
        {
          "output_type": "stream",
          "name": "stdout",
          "text": [
            "Epoch 1/10\n",
            "1563/1563 [==============================] - 25s 14ms/step - loss: 1.4960 - accuracy: 0.4541 - val_loss: 1.0975 - val_accuracy: 0.6361\n",
            "Epoch 2/10\n",
            "1563/1563 [==============================] - 21s 14ms/step - loss: 1.0588 - accuracy: 0.6304 - val_loss: 0.9558 - val_accuracy: 0.6724\n",
            "Epoch 3/10\n",
            "1563/1563 [==============================] - 22s 14ms/step - loss: 0.9096 - accuracy: 0.6828 - val_loss: 0.8601 - val_accuracy: 0.7078\n",
            "Epoch 4/10\n",
            "1563/1563 [==============================] - 21s 14ms/step - loss: 0.8095 - accuracy: 0.7174 - val_loss: 0.8055 - val_accuracy: 0.7300\n",
            "Epoch 5/10\n",
            "1563/1563 [==============================] - 21s 13ms/step - loss: 0.7423 - accuracy: 0.7418 - val_loss: 0.8130 - val_accuracy: 0.7234\n",
            "Epoch 6/10\n",
            "1563/1563 [==============================] - 21s 13ms/step - loss: 0.6785 - accuracy: 0.7651 - val_loss: 0.7423 - val_accuracy: 0.7426\n",
            "Epoch 7/10\n",
            "1563/1563 [==============================] - 21s 14ms/step - loss: 0.6337 - accuracy: 0.7788 - val_loss: 0.7741 - val_accuracy: 0.7363\n",
            "Epoch 8/10\n",
            "1563/1563 [==============================] - 21s 14ms/step - loss: 0.5935 - accuracy: 0.7931 - val_loss: 0.7264 - val_accuracy: 0.7492\n",
            "Epoch 9/10\n",
            "1563/1563 [==============================] - 21s 14ms/step - loss: 0.5596 - accuracy: 0.8073 - val_loss: 0.7384 - val_accuracy: 0.7499\n",
            "Epoch 10/10\n",
            "1563/1563 [==============================] - 21s 13ms/step - loss: 0.5277 - accuracy: 0.8156 - val_loss: 0.7069 - val_accuracy: 0.7593\n",
            "313/313 [==============================] - 2s 6ms/step - loss: 0.7069 - accuracy: 0.7593\n"
          ]
        },
        {
          "output_type": "execute_result",
          "data": {
            "text/plain": [
              "[0.7069482207298279, 0.7592999935150146]"
            ]
          },
          "metadata": {},
          "execution_count": 20
        }
      ]
    },
    {
      "cell_type": "markdown",
      "source": [
        "Sada ona iznosi dobrih 76% što se tiče podataka za testiranje"
      ],
      "metadata": {
        "id": "DFE_Gtui7ShW"
      }
    },
    {
      "cell_type": "markdown",
      "source": [
        "### Obučavanja na većem broju epoha\n",
        "Kada smo optimalno podesili parametre, možemo pustiti model da se obučava na većem broju epoha.<br>\n",
        "Nakon toga možemo vizuelno testirati kako model vrši predikciju."
      ],
      "metadata": {
        "id": "HyfFX2UPCvPU"
      }
    },
    {
      "cell_type": "code",
      "source": [
        "cnn.fit(train_images, train_labels, validation_data=(test_images, test_labels), epochs=20)\n",
        "cnn.evaluate(test_images, test_labels)"
      ],
      "metadata": {
        "colab": {
          "base_uri": "https://localhost:8080/"
        },
        "id": "UWMJdt8RDOp7",
        "outputId": "61aa2b67-8217-496b-8967-f374d43b22de"
      },
      "execution_count": null,
      "outputs": [
        {
          "output_type": "stream",
          "name": "stdout",
          "text": [
            "Epoch 1/20\n",
            "1563/1563 [==============================] - 24s 15ms/step - loss: 0.4897 - accuracy: 0.8313 - val_loss: 0.7278 - val_accuracy: 0.7520\n",
            "Epoch 2/20\n",
            "1563/1563 [==============================] - 21s 14ms/step - loss: 0.4679 - accuracy: 0.8387 - val_loss: 0.7080 - val_accuracy: 0.7599\n",
            "Epoch 3/20\n",
            "1563/1563 [==============================] - 21s 14ms/step - loss: 0.4506 - accuracy: 0.8424 - val_loss: 0.7084 - val_accuracy: 0.7621\n",
            "Epoch 4/20\n",
            "1563/1563 [==============================] - 22s 14ms/step - loss: 0.4320 - accuracy: 0.8513 - val_loss: 0.7120 - val_accuracy: 0.7621\n",
            "Epoch 5/20\n",
            "1563/1563 [==============================] - 24s 15ms/step - loss: 0.4085 - accuracy: 0.8596 - val_loss: 0.7526 - val_accuracy: 0.7536\n",
            "Epoch 6/20\n",
            "1563/1563 [==============================] - 24s 15ms/step - loss: 0.3968 - accuracy: 0.8634 - val_loss: 0.7190 - val_accuracy: 0.7613\n",
            "Epoch 7/20\n",
            "1563/1563 [==============================] - 24s 16ms/step - loss: 0.3862 - accuracy: 0.8671 - val_loss: 0.7185 - val_accuracy: 0.7598\n",
            "Epoch 8/20\n",
            "1563/1563 [==============================] - 24s 15ms/step - loss: 0.3676 - accuracy: 0.8748 - val_loss: 0.7420 - val_accuracy: 0.7601\n",
            "Epoch 9/20\n",
            "1563/1563 [==============================] - 23s 15ms/step - loss: 0.3531 - accuracy: 0.8808 - val_loss: 0.7260 - val_accuracy: 0.7644\n",
            "Epoch 10/20\n",
            "1563/1563 [==============================] - 25s 16ms/step - loss: 0.3404 - accuracy: 0.8858 - val_loss: 0.7185 - val_accuracy: 0.7641\n",
            "Epoch 11/20\n",
            "1563/1563 [==============================] - 25s 16ms/step - loss: 0.3277 - accuracy: 0.8888 - val_loss: 0.7193 - val_accuracy: 0.7674\n",
            "Epoch 12/20\n",
            "1563/1563 [==============================] - 26s 17ms/step - loss: 0.3202 - accuracy: 0.8932 - val_loss: 0.7395 - val_accuracy: 0.7645\n",
            "Epoch 13/20\n",
            "1563/1563 [==============================] - 25s 16ms/step - loss: 0.3069 - accuracy: 0.8983 - val_loss: 0.7391 - val_accuracy: 0.7593\n",
            "Epoch 14/20\n",
            "1563/1563 [==============================] - 23s 15ms/step - loss: 0.3091 - accuracy: 0.8987 - val_loss: 0.7455 - val_accuracy: 0.7583\n",
            "Epoch 15/20\n",
            "1563/1563 [==============================] - 24s 15ms/step - loss: 0.3059 - accuracy: 0.8985 - val_loss: 0.7740 - val_accuracy: 0.7560\n",
            "Epoch 16/20\n",
            "1563/1563 [==============================] - 22s 14ms/step - loss: 0.2933 - accuracy: 0.9032 - val_loss: 0.7478 - val_accuracy: 0.7660\n",
            "Epoch 17/20\n",
            "1563/1563 [==============================] - 24s 16ms/step - loss: 0.2851 - accuracy: 0.9049 - val_loss: 0.7800 - val_accuracy: 0.7623\n",
            "Epoch 18/20\n",
            "1563/1563 [==============================] - 22s 14ms/step - loss: 0.2848 - accuracy: 0.9079 - val_loss: 0.7854 - val_accuracy: 0.7624\n",
            "Epoch 19/20\n",
            "1563/1563 [==============================] - 21s 14ms/step - loss: 0.2754 - accuracy: 0.9090 - val_loss: 0.8185 - val_accuracy: 0.7601\n",
            "Epoch 20/20\n",
            "1563/1563 [==============================] - 21s 14ms/step - loss: 0.2727 - accuracy: 0.9118 - val_loss: 0.7630 - val_accuracy: 0.7692\n",
            "313/313 [==============================] - 1s 4ms/step - loss: 0.7630 - accuracy: 0.7692\n"
          ]
        },
        {
          "output_type": "execute_result",
          "data": {
            "text/plain": [
              "[0.7629721760749817, 0.7692000269889832]"
            ]
          },
          "metadata": {},
          "execution_count": 21
        }
      ]
    },
    {
      "cell_type": "markdown",
      "source": [
        "Sada vidimo da preciznost modela iznosi solidnih 77%."
      ],
      "metadata": {
        "id": "krae7gPLIAPf"
      }
    },
    {
      "cell_type": "markdown",
      "source": [
        "# Testiranje predikcije\n",
        "Sada ćemo testirati kako naš model vrši predikciju korišćenjem 10 slika iz hrpe za testiranje."
      ],
      "metadata": {
        "id": "E_QwMfJRDYCP"
      }
    },
    {
      "cell_type": "code",
      "source": [
        "test_prediction = cnn.predict(test_images)\n",
        "test_prediction = test_prediction[:10]\n",
        "test_classes = [class_names[np.argmax(i)] for i in test_prediction]\n",
        "\n",
        "print(test_classes)\n",
        "print()\n",
        "\n",
        "sample_plot(test_images, test_labels, 10)\n",
        "plt.show()"
      ],
      "metadata": {
        "colab": {
          "base_uri": "https://localhost:8080/",
          "height": 220
        },
        "id": "ocS0NfchDXpO",
        "outputId": "8d5fa602-e267-4018-f533-ba14a6103497"
      },
      "execution_count": null,
      "outputs": [
        {
          "output_type": "stream",
          "name": "stdout",
          "text": [
            "313/313 [==============================] - 1s 4ms/step\n",
            "['cat', 'ship', 'airplane', 'airplane', 'frog', 'frog', 'automobile', 'deer', 'cat', 'automobile']\n",
            "\n"
          ]
        },
        {
          "output_type": "display_data",
          "data": {
            "text/plain": [
              "<Figure size 4000x400 with 10 Axes>"
            ],
            "image/png": "[encoded data removed]"
          },
          "metadata": {}
        }
      ]
    },
    {
      "cell_type": "markdown",
      "source": [
        "# Prethodna obrada slika pomoću OpenCV\n",
        "Uvoz biblioteke\n"
      ],
      "metadata": {
        "id": "jJJK5A4zSFIY"
      }
    },
    {
      "cell_type": "code",
      "source": [
        "import cv2"
      ],
      "metadata": {
        "id": "cypyNQZkSEQq"
      },
      "execution_count": null,
      "outputs": []
    },
    {
      "cell_type": "markdown",
      "source": [
        "## 1. Grayscale\n",
        "Funkcija za pretvaranje piksela u grayscale oblik"
      ],
      "metadata": {
        "id": "42NrvqpiSfl0"
      }
    },
    {
      "cell_type": "code",
      "source": [
        "def grayscale(images):\n",
        "    preprocessed_images = []\n",
        "    for image in images:\n",
        "        image_uint8 = np.uint8(image * 255)\n",
        "        grayscale_image = cv2.cvtColor(image_uint8, cv2.COLOR_RGB2GRAY)\n",
        "        preprocessed_images.append(grayscale_image)\n",
        "    return np.array(preprocessed_images)"
      ],
      "metadata": {
        "id": "IJXpJpgySmdi"
      },
      "execution_count": null,
      "outputs": []
    },
    {
      "cell_type": "markdown",
      "source": [
        "Primena funkcije na slikama za treniranje i testiranje"
      ],
      "metadata": {
        "id": "sOCn_YRsS8a6"
      }
    },
    {
      "cell_type": "code",
      "source": [
        "grayscale_train_images = grayscale(train_images)\n",
        "grayscale_test_images = grayscale(test_images)"
      ],
      "metadata": {
        "id": "utlarmMtTD86"
      },
      "execution_count": null,
      "outputs": []
    },
    {
      "cell_type": "markdown",
      "source": [
        "Prikaz slika nakon primene filtera:"
      ],
      "metadata": {
        "id": "7fmsWvGfTTmE"
      }
    },
    {
      "cell_type": "code",
      "source": [
        "sample_plot(grayscale_test_images, test_labels, 3, cmap=\"gray\")\n",
        "plt.show()"
      ],
      "metadata": {
        "colab": {
          "base_uri": "https://localhost:8080/",
          "height": 359
        },
        "id": "Dt21SKgUTmUn",
        "outputId": "8dd6a0d8-b056-4fe3-c269-7a7df60b1178"
      },
      "execution_count": null,
      "outputs": [
        {
          "output_type": "display_data",
          "data": {
            "text/plain": [
              "<Figure size 1200x400 with 3 Axes>"
            ],
            "image/png": "[encoded data removed]"
          },
          "metadata": {}
        }
      ]
    },
    {
      "cell_type": "markdown",
      "source": [
        "Pravljenje novog modela zbog izmenjenih dimenzija ulaznih slika:\n"
      ],
      "metadata": {
        "id": "yimU9SCtWR6k"
      }
    },
    {
      "cell_type": "code",
      "source": [
        "cnn_gray = models.Sequential([\n",
        "    layers.Conv2D(\n",
        "        filters=64,\n",
        "        padding=\"same\",\n",
        "        kernel_size=(3, 3),\n",
        "        activation=\"relu\",\n",
        "        input_shape=(32, 32, 1)  # Input shape for grayscale images\n",
        "    ),\n",
        "    layers.Dropout(0.2),\n",
        "\n",
        "    layers.Conv2D(\n",
        "        filters=128,\n",
        "        padding=\"same\",\n",
        "        kernel_size=(3, 3),\n",
        "        activation=\"relu\"\n",
        "    ),\n",
        "    layers.Dropout(0.2),\n",
        "    layers.MaxPooling2D(pool_size=(2, 2)),\n",
        "\n",
        "    layers.Conv2D(\n",
        "        filters=256,\n",
        "        padding=\"same\",\n",
        "        kernel_size=(3, 3),\n",
        "        activation=\"relu\"\n",
        "    ),\n",
        "    layers.Dropout(0.2),\n",
        "    layers.MaxPooling2D(pool_size=(2, 2)),\n",
        "    \n",
        "    layers.Flatten(),\n",
        "    layers.Dense(512, activation=\"relu\"),\n",
        "    layers.Dropout(0.4),\n",
        "    layers.Dense(256, activation=\"relu\"),\n",
        "    layers.Dropout(0.3),\n",
        "    layers.Dense(num_classes, activation=\"softmax\")\n",
        "])\n",
        "\n",
        "\n",
        "cnn_gray.compile(optimizer=\"adam\",\n",
        "            loss=\"sparse_categorical_crossentropy\",\n",
        "            metrics=[\"accuracy\"])"
      ],
      "metadata": {
        "id": "irjaMGT2XinU"
      },
      "execution_count": null,
      "outputs": []
    },
    {
      "cell_type": "markdown",
      "source": [
        "## Obučavanje i evaluacija novodobijenog modela"
      ],
      "metadata": {
        "id": "WiVmT_uCb4fs"
      }
    },
    {
      "cell_type": "code",
      "source": [
        "cnn_gray.fit(grayscale_train_images, train_labels, validation_data=(grayscale_test_images, test_labels), epochs=20)\n",
        "cnn_gray.evaluate(grayscale_test_images, test_labels)"
      ],
      "metadata": {
        "colab": {
          "base_uri": "https://localhost:8080/"
        },
        "id": "bzhr4bDZWbR-",
        "outputId": "e722712f-d6c5-4d92-fb30-cee19253b2a2"
      },
      "execution_count": null,
      "outputs": [
        {
          "output_type": "stream",
          "name": "stdout",
          "text": [
            "Epoch 1/20\n",
            "1563/1563 [==============================] - 22s 14ms/step - loss: 1.6526 - accuracy: 0.4127 - val_loss: 1.6042 - val_accuracy: 0.4653\n",
            "Epoch 2/20\n",
            "1563/1563 [==============================] - 22s 14ms/step - loss: 1.3729 - accuracy: 0.5220 - val_loss: 1.3863 - val_accuracy: 0.5278\n",
            "Epoch 3/20\n",
            "1563/1563 [==============================] - 23s 15ms/step - loss: 1.2170 - accuracy: 0.5806 - val_loss: 1.1328 - val_accuracy: 0.6222\n",
            "Epoch 4/20\n",
            "1563/1563 [==============================] - 21s 14ms/step - loss: 1.1103 - accuracy: 0.6187 - val_loss: 1.1173 - val_accuracy: 0.6326\n",
            "Epoch 5/20\n",
            "1563/1563 [==============================] - 21s 14ms/step - loss: 1.0465 - accuracy: 0.6413 - val_loss: 1.0226 - val_accuracy: 0.6584\n",
            "Epoch 6/20\n",
            "1563/1563 [==============================] - 21s 14ms/step - loss: 0.9780 - accuracy: 0.6656 - val_loss: 0.9729 - val_accuracy: 0.6771\n",
            "Epoch 7/20\n",
            "1563/1563 [==============================] - 23s 15ms/step - loss: 0.9294 - accuracy: 0.6830 - val_loss: 0.9774 - val_accuracy: 0.6711\n",
            "Epoch 8/20\n",
            "1563/1563 [==============================] - 21s 14ms/step - loss: 0.8820 - accuracy: 0.6984 - val_loss: 1.0074 - val_accuracy: 0.6600\n",
            "Epoch 9/20\n",
            "1563/1563 [==============================] - 23s 15ms/step - loss: 0.8391 - accuracy: 0.7141 - val_loss: 0.9411 - val_accuracy: 0.6858\n",
            "Epoch 10/20\n",
            "1563/1563 [==============================] - 22s 14ms/step - loss: 0.7996 - accuracy: 0.7273 - val_loss: 0.9470 - val_accuracy: 0.6827\n",
            "Epoch 11/20\n",
            "1563/1563 [==============================] - 22s 14ms/step - loss: 0.7647 - accuracy: 0.7410 - val_loss: 0.9080 - val_accuracy: 0.6950\n",
            "Epoch 12/20\n",
            "1563/1563 [==============================] - 21s 14ms/step - loss: 0.7411 - accuracy: 0.7502 - val_loss: 0.9140 - val_accuracy: 0.6967\n",
            "Epoch 13/20\n",
            "1563/1563 [==============================] - 22s 14ms/step - loss: 0.7133 - accuracy: 0.7596 - val_loss: 0.9650 - val_accuracy: 0.6762\n",
            "Epoch 14/20\n",
            "1563/1563 [==============================] - 21s 14ms/step - loss: 0.6823 - accuracy: 0.7729 - val_loss: 0.9471 - val_accuracy: 0.6831\n",
            "Epoch 15/20\n",
            "1563/1563 [==============================] - 23s 15ms/step - loss: 0.6533 - accuracy: 0.7826 - val_loss: 0.9064 - val_accuracy: 0.7009\n",
            "Epoch 16/20\n",
            "1563/1563 [==============================] - 21s 14ms/step - loss: 0.6248 - accuracy: 0.7942 - val_loss: 0.9150 - val_accuracy: 0.6983\n",
            "Epoch 17/20\n",
            "1563/1563 [==============================] - 21s 14ms/step - loss: 0.6234 - accuracy: 0.7947 - val_loss: 0.9394 - val_accuracy: 0.6964\n",
            "Epoch 18/20\n",
            "1563/1563 [==============================] - 22s 14ms/step - loss: 0.5896 - accuracy: 0.8064 - val_loss: 0.9582 - val_accuracy: 0.6873\n",
            "Epoch 19/20\n",
            "1563/1563 [==============================] - 23s 15ms/step - loss: 0.5804 - accuracy: 0.8087 - val_loss: 1.0332 - val_accuracy: 0.6709\n",
            "Epoch 20/20\n",
            "1563/1563 [==============================] - 21s 14ms/step - loss: 0.5687 - accuracy: 0.8143 - val_loss: 0.9650 - val_accuracy: 0.6817\n",
            "313/313 [==============================] - 1s 4ms/step - loss: 0.9650 - accuracy: 0.6817\n"
          ]
        },
        {
          "output_type": "execute_result",
          "data": {
            "text/plain": [
              "[0.9649967551231384, 0.6816999912261963]"
            ]
          },
          "metadata": {},
          "execution_count": 92
        }
      ]
    },
    {
      "cell_type": "markdown",
      "source": [
        "## Rezultati grayscale obrade\n",
        "Rezultati treniranja na grayscale skupu podataka nisu bolji od običnog<br>\n",
        "Moja pretpostavka je zato što su slike male, i postoji dosta mešanja pozadina i samim tim stapanja kontrasta, tako da to negativno utiče na prepoznavanje karakteristika prilikom treniranja"
      ],
      "metadata": {
        "id": "5fm-vroIcATR"
      }
    },
    {
      "cell_type": "markdown",
      "source": [
        "## Testiranje predikcije\n",
        "Testiranje predikcije, sada na grayscale verzijama slika."
      ],
      "metadata": {
        "id": "mOC4VCvUavrx"
      }
    },
    {
      "cell_type": "code",
      "source": [
        "grayscale_test_prediction = cnn_gray.predict(grayscale_test_images)\n",
        "grayscale_test_prediction = grayscale_test_prediction[:10]\n",
        "grayscale_test_classes = [class_names[np.argmax(i)] for i in grayscale_test_prediction]\n",
        "\n",
        "print(grayscale_test_classes)\n",
        "print()\n",
        "\n",
        "sample_plot(grayscale_test_images, test_labels, 10, cmap=\"gray\")\n",
        "plt.show()"
      ],
      "metadata": {
        "colab": {
          "base_uri": "https://localhost:8080/",
          "height": 220
        },
        "id": "1jNevN9ka17r",
        "outputId": "b05b01c9-bbe0-47c8-ee88-d480596e488d"
      },
      "execution_count": null,
      "outputs": [
        {
          "output_type": "stream",
          "name": "stdout",
          "text": [
            "313/313 [==============================] - 1s 3ms/step\n",
            "['cat', 'airplane', 'ship', 'airplane', 'frog', 'frog', 'automobile', 'deer', 'cat', 'ship']\n",
            "\n"
          ]
        },
        {
          "output_type": "display_data",
          "data": {
            "text/plain": [
              "<Figure size 4000x400 with 10 Axes>"
            ],
            "image/png": "[encoded data removed]"
          },
          "metadata": {}
        }
      ]
    },
    {
      "cell_type": "markdown",
      "source": [
        "## 2. Nasumična rotacija\n",
        "Funkcija koja nasumično vrši rotaciju po horizontalnoj osi kao i rotiranje slike za nasumičan broj stepeni između $\\pm$90."
      ],
      "metadata": {
        "id": "EbHpYJMPSbcr"
      }
    },
    {
      "cell_type": "code",
      "source": [
        "def augment(images):\n",
        "    augmented_images = []\n",
        "    for image in images:\n",
        "        if np.random.rand() < 0.5:\n",
        "            image = cv2.flip(image, 1)\n",
        "\n",
        "        angle = np.random.randint(-90, 90)\n",
        "        rows, cols, _ = image.shape\n",
        "        rotation_matrix = cv2.getRotationMatrix2D((cols / 2, rows / 2), angle, 1)\n",
        "        image = cv2.warpAffine(image, rotation_matrix, (cols, rows))\n",
        "\n",
        "        augmented_images.append(image)\n",
        "    \n",
        "    return np.array(augmented_images)"
      ],
      "metadata": {
        "id": "FUsRSW2edhUx"
      },
      "execution_count": null,
      "outputs": []
    },
    {
      "cell_type": "markdown",
      "source": [
        "\n",
        "Primena efekta na ulaznom skupu slika"
      ],
      "metadata": {
        "id": "dxWLmFcvfT00"
      }
    },
    {
      "cell_type": "code",
      "source": [
        "augmented_train_images = augment(train_images)\n",
        "augmented_test_images = augment(test_images)"
      ],
      "metadata": {
        "id": "ugMFBzvtfU6m"
      },
      "execution_count": null,
      "outputs": []
    },
    {
      "cell_type": "markdown",
      "source": [
        "Iscrtavanje slika nakon izmena"
      ],
      "metadata": {
        "id": "XaJ2Z-RIfuDR"
      }
    },
    {
      "cell_type": "code",
      "source": [
        "sample_plot(augmented_test_images, test_labels, 3)\n",
        "plt.show()"
      ],
      "metadata": {
        "colab": {
          "base_uri": "https://localhost:8080/",
          "height": 359
        },
        "id": "Pw_btCO1iD2T",
        "outputId": "4e453f6f-625f-4e85-aeb5-d54f3b10f673"
      },
      "execution_count": null,
      "outputs": [
        {
          "output_type": "display_data",
          "data": {
            "text/plain": [
              "<Figure size 1200x400 with 3 Axes>"
            ],
            "image/png": "[encoded data removed]"
          },
          "metadata": {}
        }
      ]
    },
    {
      "cell_type": "markdown",
      "source": [
        "### Treniranje modela na izmenjenim slikama"
      ],
      "metadata": {
        "id": "dtYVJGGnjDYX"
      }
    },
    {
      "cell_type": "code",
      "source": [
        "cnn.fit(augmented_train_images, train_labels, validation_data=(augmented_test_images, test_labels), epochs=20)\n",
        "cnn.evaluate(augmented_test_images, test_labels)"
      ],
      "metadata": {
        "colab": {
          "base_uri": "https://localhost:8080/"
        },
        "id": "tVCvX3zdjNZx",
        "outputId": "403dd9a9-0a97-4933-986c-7c1d8b96d61a"
      },
      "execution_count": null,
      "outputs": [
        {
          "output_type": "stream",
          "name": "stdout",
          "text": [
            "Epoch 1/20\n",
            "1563/1563 [==============================] - 22s 14ms/step - loss: 1.5707 - accuracy: 0.4564 - val_loss: 1.4078 - val_accuracy: 0.5082\n",
            "Epoch 2/20\n",
            "1563/1563 [==============================] - 22s 14ms/step - loss: 1.3340 - accuracy: 0.5331 - val_loss: 1.3219 - val_accuracy: 0.5591\n",
            "Epoch 3/20\n",
            "1563/1563 [==============================] - 21s 14ms/step - loss: 1.2260 - accuracy: 0.5711 - val_loss: 1.3184 - val_accuracy: 0.5539\n",
            "Epoch 4/20\n",
            "1563/1563 [==============================] - 22s 14ms/step - loss: 1.1390 - accuracy: 0.5984 - val_loss: 1.1679 - val_accuracy: 0.5999\n",
            "Epoch 5/20\n",
            "1563/1563 [==============================] - 22s 14ms/step - loss: 1.0549 - accuracy: 0.6353 - val_loss: 1.1572 - val_accuracy: 0.5980\n",
            "Epoch 6/20\n",
            "1563/1563 [==============================] - 23s 15ms/step - loss: 0.9876 - accuracy: 0.6597 - val_loss: 1.1099 - val_accuracy: 0.6263\n",
            "Epoch 7/20\n",
            "1563/1563 [==============================] - 24s 15ms/step - loss: 0.9200 - accuracy: 0.6786 - val_loss: 1.1465 - val_accuracy: 0.6103\n",
            "Epoch 8/20\n",
            "1563/1563 [==============================] - 25s 16ms/step - loss: 0.8633 - accuracy: 0.6985 - val_loss: 1.1343 - val_accuracy: 0.6121\n",
            "Epoch 9/20\n",
            "1563/1563 [==============================] - 23s 15ms/step - loss: 0.8104 - accuracy: 0.7211 - val_loss: 1.1394 - val_accuracy: 0.6087\n",
            "Epoch 10/20\n",
            "1563/1563 [==============================] - 22s 14ms/step - loss: 0.7501 - accuracy: 0.7388 - val_loss: 1.0607 - val_accuracy: 0.6374\n",
            "Epoch 11/20\n",
            "1563/1563 [==============================] - 22s 14ms/step - loss: 0.7141 - accuracy: 0.7543 - val_loss: 1.0702 - val_accuracy: 0.6361\n",
            "Epoch 12/20\n",
            "1563/1563 [==============================] - 22s 14ms/step - loss: 0.6672 - accuracy: 0.7712 - val_loss: 1.0873 - val_accuracy: 0.6288\n",
            "Epoch 13/20\n",
            "1563/1563 [==============================] - 23s 15ms/step - loss: 0.6407 - accuracy: 0.7808 - val_loss: 1.0857 - val_accuracy: 0.6357\n",
            "Epoch 14/20\n",
            "1563/1563 [==============================] - 22s 14ms/step - loss: 0.6134 - accuracy: 0.7909 - val_loss: 1.1061 - val_accuracy: 0.6212\n",
            "Epoch 15/20\n",
            "1563/1563 [==============================] - 22s 14ms/step - loss: 0.5779 - accuracy: 0.8047 - val_loss: 1.1740 - val_accuracy: 0.6041\n",
            "Epoch 16/20\n",
            "1563/1563 [==============================] - 22s 14ms/step - loss: 0.5635 - accuracy: 0.8101 - val_loss: 1.0972 - val_accuracy: 0.6360\n",
            "Epoch 17/20\n",
            "1563/1563 [==============================] - 22s 14ms/step - loss: 0.5276 - accuracy: 0.8213 - val_loss: 1.0941 - val_accuracy: 0.6419\n",
            "Epoch 18/20\n",
            "1563/1563 [==============================] - 22s 14ms/step - loss: 0.5067 - accuracy: 0.8286 - val_loss: 1.1251 - val_accuracy: 0.6276\n",
            "Epoch 19/20\n",
            "1563/1563 [==============================] - 22s 14ms/step - loss: 0.4920 - accuracy: 0.8345 - val_loss: 1.1123 - val_accuracy: 0.6351\n",
            "Epoch 20/20\n",
            "1563/1563 [==============================] - 22s 14ms/step - loss: 0.4792 - accuracy: 0.8410 - val_loss: 1.1189 - val_accuracy: 0.6403\n",
            "313/313 [==============================] - 1s 4ms/step - loss: 1.1189 - accuracy: 0.6403\n"
          ]
        },
        {
          "output_type": "execute_result",
          "data": {
            "text/plain": [
              "[1.1188666820526123, 0.6402999758720398]"
            ]
          },
          "metadata": {},
          "execution_count": 144
        }
      ]
    },
    {
      "cell_type": "markdown",
      "source": [
        "## Rezultati obrade nasumičnom rotacijom\n",
        "Rezultati obrade su nešto lošiji od grayscale rezultata, ali to je na neki način očekivano zbog nasumičnih modifikacija slika tokom obučavanja. <br>\n",
        "Na iscrtavanju slika se takođe može videti da je prisutno gubljenje određenog dela slike prilikom njene rotacije.\n",
        "\n"
      ],
      "metadata": {
        "id": "4zBDFdq3jttF"
      }
    }
  ]
}